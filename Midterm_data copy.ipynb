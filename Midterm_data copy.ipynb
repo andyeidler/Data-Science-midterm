{
 "cells": [
  {
   "cell_type": "code",
   "execution_count": 1,
   "metadata": {},
   "outputs": [],
   "source": [
    "import numpy as np\n",
    "import pandas as pd"
   ]
  },
  {
   "cell_type": "code",
   "execution_count": 2,
   "metadata": {},
   "outputs": [
    {
     "name": "stdout",
     "output_type": "stream",
     "text": [
      "     Year  Month  DOMESTIC  INTERNATIONAL       TOTAL\n",
      "0    2002     10   5002444       255639.0   5258083.0\n",
      "1    2002     11   4691586       241048.0   4932634.0\n",
      "2    2002     12   5113518       252895.0   5366413.0\n",
      "3    2002  TOTAL  59283801      3250341.0  62534142.0\n",
      "4    2003      1   4475794       224641.0   4700435.0\n",
      "..    ...    ...       ...            ...         ...\n",
      "258  2022      8   8396700       935439.0   9332139.0\n",
      "259  2022      9   7973088            NaN         NaN\n",
      "260  2022     10   8278023            NaN         NaN\n",
      "261  2022     11   8054355            NaN         NaN\n",
      "262  2022  TOTAL  86395890      6259968.0  68350392.0\n",
      "\n",
      "[263 rows x 5 columns]\n"
     ]
    }
   ],
   "source": [
    "data = pd.read_csv(r'Delta_passengers_data.csv')\n",
    "print(data)"
   ]
  },
  {
   "cell_type": "code",
   "execution_count": 3,
   "metadata": {},
   "outputs": [
    {
     "data": {
      "text/html": [
       "<div>\n",
       "<style scoped>\n",
       "    .dataframe tbody tr th:only-of-type {\n",
       "        vertical-align: middle;\n",
       "    }\n",
       "\n",
       "    .dataframe tbody tr th {\n",
       "        vertical-align: top;\n",
       "    }\n",
       "\n",
       "    .dataframe thead th {\n",
       "        text-align: right;\n",
       "    }\n",
       "</style>\n",
       "<table border=\"1\" class=\"dataframe\">\n",
       "  <thead>\n",
       "    <tr style=\"text-align: right;\">\n",
       "      <th></th>\n",
       "      <th>Year</th>\n",
       "      <th>DOMESTIC</th>\n",
       "      <th>INTERNATIONAL</th>\n",
       "      <th>TOTAL</th>\n",
       "    </tr>\n",
       "  </thead>\n",
       "  <tbody>\n",
       "    <tr>\n",
       "      <th>count</th>\n",
       "      <td>263.000000</td>\n",
       "      <td>2.630000e+02</td>\n",
       "      <td>2.600000e+02</td>\n",
       "      <td>2.600000e+02</td>\n",
       "    </tr>\n",
       "    <tr>\n",
       "      <th>mean</th>\n",
       "      <td>2012.304183</td>\n",
       "      <td>1.097679e+07</td>\n",
       "      <td>1.158864e+06</td>\n",
       "      <td>1.207535e+07</td>\n",
       "    </tr>\n",
       "    <tr>\n",
       "      <th>std</th>\n",
       "      <td>5.856316</td>\n",
       "      <td>1.828150e+07</td>\n",
       "      <td>2.026809e+06</td>\n",
       "      <td>2.003610e+07</td>\n",
       "    </tr>\n",
       "    <tr>\n",
       "      <th>min</th>\n",
       "      <td>2002.000000</td>\n",
       "      <td>3.657350e+05</td>\n",
       "      <td>1.713700e+04</td>\n",
       "      <td>3.875600e+05</td>\n",
       "    </tr>\n",
       "    <tr>\n",
       "      <th>25%</th>\n",
       "      <td>2007.000000</td>\n",
       "      <td>4.325584e+06</td>\n",
       "      <td>3.989892e+05</td>\n",
       "      <td>4.702877e+06</td>\n",
       "    </tr>\n",
       "    <tr>\n",
       "      <th>50%</th>\n",
       "      <td>2012.000000</td>\n",
       "      <td>6.276918e+06</td>\n",
       "      <td>6.696975e+05</td>\n",
       "      <td>6.911862e+06</td>\n",
       "    </tr>\n",
       "    <tr>\n",
       "      <th>75%</th>\n",
       "      <td>2017.000000</td>\n",
       "      <td>7.800630e+06</td>\n",
       "      <td>9.162405e+05</td>\n",
       "      <td>8.641873e+06</td>\n",
       "    </tr>\n",
       "    <tr>\n",
       "      <th>max</th>\n",
       "      <td>2022.000000</td>\n",
       "      <td>1.053209e+08</td>\n",
       "      <td>1.247839e+07</td>\n",
       "      <td>1.177993e+08</td>\n",
       "    </tr>\n",
       "  </tbody>\n",
       "</table>\n",
       "</div>"
      ],
      "text/plain": [
       "              Year      DOMESTIC  INTERNATIONAL         TOTAL\n",
       "count   263.000000  2.630000e+02   2.600000e+02  2.600000e+02\n",
       "mean   2012.304183  1.097679e+07   1.158864e+06  1.207535e+07\n",
       "std       5.856316  1.828150e+07   2.026809e+06  2.003610e+07\n",
       "min    2002.000000  3.657350e+05   1.713700e+04  3.875600e+05\n",
       "25%    2007.000000  4.325584e+06   3.989892e+05  4.702877e+06\n",
       "50%    2012.000000  6.276918e+06   6.696975e+05  6.911862e+06\n",
       "75%    2017.000000  7.800630e+06   9.162405e+05  8.641873e+06\n",
       "max    2022.000000  1.053209e+08   1.247839e+07  1.177993e+08"
      ]
     },
     "execution_count": 3,
     "metadata": {},
     "output_type": "execute_result"
    }
   ],
   "source": [
    "data.describe()\n"
   ]
  },
  {
   "cell_type": "code",
   "execution_count": null,
   "metadata": {},
   "outputs": [],
   "source": [
    "#PIE PLOT\n",
    "fig = plt.figure()\n",
    "ax = fig.add_axes([0,0,1,1])\n",
    "langs = ['C', 'C++', 'Java', 'Python', 'PHP']\n",
    "students = [23,17,35,29,12]\n",
    "ax.pie(students, labels=langs)\n",
    "plt.show()"
   ]
  }
 ],
 "metadata": {
  "kernelspec": {
   "display_name": "Python 3",
   "language": "python",
   "name": "python3"
  },
  "language_info": {
   "codemirror_mode": {
    "name": "ipython",
    "version": 3
   },
   "file_extension": ".py",
   "mimetype": "text/x-python",
   "name": "python",
   "nbconvert_exporter": "python",
   "pygments_lexer": "ipython3",
   "version": "3.11.1"
  },
  "orig_nbformat": 4,
  "vscode": {
   "interpreter": {
    "hash": "aee8b7b246df8f9039afb4144a1f6fd8d2ca17a180786b69acc140d282b71a49"
   }
  }
 },
 "nbformat": 4,
 "nbformat_minor": 2
}
